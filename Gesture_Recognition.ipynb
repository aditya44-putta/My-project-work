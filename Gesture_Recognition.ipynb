{
 "cells": [
  {
   "cell_type": "markdown",
   "metadata": {},
   "source": [
    "# Problem Statement\n",
    "\n",
    ">Imagine you are working as a data scientist at a home electronics company which manufactures state of the art smart televisions. You want to develop a cool feature in the smart-TV that can recognise five different gestures performed by the user which will help users control the TV without using a remote.\n",
    "\n",
    ">The gestures are continuously monitored by the webcam mounted on the TV. Each gesture corresponds to a specific command:\n",
    "\n",
    ">Thumbs up:  Increase the volume\n",
    "\n",
    ">Thumbs down: Decrease the volume\n",
    "\n",
    ">Left swipe: 'Jump' backwards 10 seconds\n",
    "\n",
    ">Right swipe: 'Jump' forward 10 seconds  \n",
    "\n",
    ">Stop: Pause the movie\n"
   ]
  },
  {
   "cell_type": "markdown",
   "metadata": {
    "id": "oh7SkG7HHo5Q"
   },
   "source": [
    "# Gesture Recognition\n",
    "In this group project, you are going to build a 3D Conv model that will be able to predict the 5 gestures correctly. Please import the following libraries to get started."
   ]
  },
  {
   "cell_type": "code",
   "execution_count": 3,
   "metadata": {},
   "outputs": [
    {
     "data": {
      "text/plain": [
       "'\\n!pip install opencv-python==4.2.0.34\\n'"
      ]
     },
     "execution_count": 3,
     "metadata": {},
     "output_type": "execute_result"
    }
   ],
   "source": [
    "#cv2 installation\n",
    "#pip install cv2\n",
    "#!pip install opencv-python#\n",
    "'''\n",
    "!pip install opencv-python==4.2.0.34\n",
    "'''"
   ]
  },
  {
   "cell_type": "code",
   "execution_count": 4,
   "metadata": {
    "id": "F2EyOkVpHo5b"
   },
   "outputs": [],
   "source": [
    "#importing packages\n",
    "import numpy as np\n",
    "import os\n",
    "from scipy.misc import imread, imresize\n",
    "#import cv2\n",
    "import datetime\n",
    "import os\n",
    "\n",
    "import warnings\n",
    "warnings.filterwarnings('ignore')"
   ]
  },
  {
   "cell_type": "markdown",
   "metadata": {
    "id": "xfNQcoJgHo5e"
   },
   "source": [
    "We set the random seed so that the results don't vary drastically."
   ]
  },
  {
   "cell_type": "code",
   "execution_count": 5,
   "metadata": {
    "id": "fCF-mQeMHo5f"
   },
   "outputs": [],
   "source": [
    "np.random.seed(30)\n",
    "import random as rn\n",
    "rn.seed(30)\n",
    "from keras import backend as K\n",
    "import tensorflow as tf\n",
    "#tf.set_random_seed(30)\n",
    "tf.random.set_seed(30)"
   ]
  },
  {
   "cell_type": "code",
   "execution_count": 6,
   "metadata": {
    "colab": {
     "base_uri": "https://localhost:8080/"
    },
    "id": "AiJfGKrIZqKb",
    "outputId": "a8c2d5a0-d4f3-4261-e818-12ee0841b66f"
   },
   "outputs": [
    {
     "data": {
      "text/plain": [
       "\"\\nfrom google.colab import drive\\ndrive.mount('/content/drive')\\n\""
      ]
     },
     "execution_count": 6,
     "metadata": {},
     "output_type": "execute_result"
    }
   ],
   "source": [
    "## Mounting google drive\n",
    "'''\n",
    "from google.colab import drive\n",
    "drive.mount('/content/drive')\n",
    "'''"
   ]
  },
  {
   "cell_type": "markdown",
   "metadata": {
    "id": "1tRxgCKfHo5f"
   },
   "source": [
    "In this block, you read the folder names for training and validation. You also set the `batch_size` here. Note that you set the batch size in such a way that you are able to use the GPU in full capacity. You keep increasing the batch size until the machine throws an error."
   ]
  },
  {
   "cell_type": "code",
   "execution_count": 7,
   "metadata": {
    "id": "TRnz8d-0Ho5g"
   },
   "outputs": [],
   "source": [
    "# Loading videos folder names\n",
    "#train_doc = np.random.permutation(open('/content/drive/MyDrive/Project_data/train.csv').readlines())\n",
    "#val_doc = np.random.permutation(open('/content/drive/MyDrive/Project_data/val.csv').readlines())\n",
    "\n",
    "train_doc = np.random.permutation(open('Project_data/train.csv').readlines())\n",
    "val_doc = np.random.permutation(open('Project_data/val.csv').readlines())\n",
    "#train_doc = np.random.permutation(open('C:/Studies/Upgrad - PGC in ML and DL/Course5 Deep Learning/Group Case Study1 - Neural Networks Project - Gesture Recognition/Project_data/train.csv').readlines())\n",
    "#val_doc = np.random.permutation(open('C:/Studies/Upgrad - PGC in ML and DL/Course5 Deep Learning/Group Case Study1 - Neural Networks Project - Gesture Recognition/Project_data/val.csv').readlines())\n",
    "batch_size = 10#experiment with the batch size\n",
    "#batch size of upto 100 is acceptable but getting lower validation accuracy"
   ]
  },
  {
   "cell_type": "code",
   "execution_count": 8,
   "metadata": {
    "id": "s3ZLK4H-Ho5h"
   },
   "outputs": [],
   "source": [
    "#defining image height and width using which we can standardize size of all images\n",
    "img_height=120\n",
    "img_width=160"
   ]
  },
  {
   "cell_type": "markdown",
   "metadata": {
    "id": "kd22uvx8Ho5i"
   },
   "source": [
    "## Generator\n",
    "This is one of the most important part of the code. The overall structure of the generator has been given. In the generator, you are going to preprocess the images as you have images of 2 different dimensions as well as create a batch of video frames. You have to experiment with `img_idx`, `y`,`z` and normalization such that you get high accuracy."
   ]
  },
  {
   "cell_type": "code",
   "execution_count": 9,
   "metadata": {
    "id": "SBkCy7vbHo5j"
   },
   "outputs": [],
   "source": [
    "#function to normalize each individual image\n",
    "def normalize_img(image):\n",
    "    normalized_image= (image - np.min(image))/(np.max(image)- np.min(image))\n",
    "    return normalized_image"
   ]
  },
  {
   "cell_type": "code",
   "execution_count": 10,
   "metadata": {
    "id": "vNfvwvDWHo5k"
   },
   "outputs": [],
   "source": [
    "#generator function that creates batched of input data and corresponding class matrices\n",
    "def generator(source_path, folder_list, batch_size):\n",
    "    print( 'Source path = ', source_path, '; batch size =', batch_size)\n",
    "    img_idx = [x for x in range(0, 30,2)]#create a list of image numbers you want to use for a particular video\n",
    "    while True:\n",
    "        t = np.random.permutation(folder_list)\n",
    "        num_batches = len(folder_list)//batch_size# calculating the number of full batches\n",
    "        \n",
    "        for batch in range(num_batches): # we iterate over the number of batches\n",
    "            batch_data = np.zeros((batch_size,len(img_idx),img_height,img_width,3)) # x is the number of images you use for each video, (y,z) is the final size of the input images and 3 is the number of channels RGB\n",
    "            batch_labels = np.zeros((batch_size,5)) # batch_labels is the one hot representation of the output\n",
    "            for folder in range(batch_size): # iterate over the batch_size\n",
    "                imgs = os.listdir(source_path+'/'+ t[folder + (batch*batch_size)].split(';')[0]) # read all the images in the folder\n",
    "                for idx,item in enumerate(img_idx): #  Iterate iver the frames/images of a folder to read them in\n",
    "                    image = imread(source_path+'/'+ t[folder + (batch*batch_size)].strip().split(';')[0]+'/'+imgs[item]).astype(np.float32)\n",
    "                    #image = cv2.imread(source_path+'/'+ t[folder + (batch*batch_size)].strip().split(';')[0]+'/'+imgs[item]).astype(np.float32)\n",
    "                    if image.shape[0]==120 & image.shape[1]==160:\n",
    "                        resized_img=image\n",
    "                    else:\n",
    "                        resized_img=imresize(image,(img_height,img_width,3))\n",
    "                        #resized_img=cv2.resize(image, (img_width, img_height))#In cv2.imresize, we take width followed by height\n",
    "                    \n",
    "                    #crop the images and resize them. Note that the images are of 2 different shape \n",
    "                    #and the conv3D will throw error if the inputs in a batch have different shapes\n",
    "                    \n",
    "                    batch_data[folder,idx,:,:,0] = normalize_img(resized_img[:, : , 0])#normalise and feed in the image\n",
    "                    batch_data[folder,idx,:,:,1] = normalize_img(resized_img[:, : , 1])#normalise and feed in the image\n",
    "                    batch_data[folder,idx,:,:,2] = normalize_img(resized_img[:, : , 2])#normalise and feed in the image\n",
    "                    \n",
    "                batch_labels[folder, int(t[folder + (batch*batch_size)].strip().split(';')[2])] = 1\n",
    "            yield batch_data, batch_labels #you yield the batch_data and the batch_labels, remember what does yield do\n",
    "        \n",
    "        \n",
    "        # write the code for the remaining data points which are left after full batches\n",
    "        rem_batch_size=len(folder_list)%batch_size\n",
    "        batch_data = np.zeros((rem_batch_size,len(img_idx),img_height,img_width,3)) # x is the number of images you use for each video, (y,z) is the final size of the input images and 3 is the number of channels RGB\n",
    "        batch_labels = np.zeros((rem_batch_size,5)) # batch_labels is the one hot representation of the output\n",
    "        for folder in range(rem_batch_size): # iterate over the batch_size\n",
    "            imgs = os.listdir(source_path+'/'+ t[folder + (num_batches*batch_size)].split(';')[0]) # read all the images in the folder\n",
    "            for idx,item in enumerate(img_idx): #  Iterate iver the frames/images of a folder to read them in\n",
    "                image = imread(source_path+'/'+ t[folder + (num_batches*batch_size)].strip().split(';')[0]+'/'+imgs[item]).astype(np.float32)\n",
    "                #image = cv2.imread(source_path+'/'+ t[folder + (num_batches*batch_size)].strip().split(';')[0]+'/'+imgs[item]).astype(np.float32)\n",
    "                if image.shape[0]==120 & image.shape[1]==160:\n",
    "                    resized_img=image\n",
    "                else:\n",
    "                    resized_img=imresize(image,(img_height,img_width,3))\n",
    "                    #resized_img=cv2.resize(image, (img_width, img_height))\n",
    "\n",
    "                #crop the images and resize them. Note that the images are of 2 different shape \n",
    "                #and the conv3D will throw error if the inputs in a batch have different shapes\n",
    "\n",
    "                batch_data[folder,idx,:,:,0] = normalize_img(resized_img[:, : , 0])#normalise and feed in the image\n",
    "                batch_data[folder,idx,:,:,1] = normalize_img(resized_img[:, : , 1])#normalise and feed in the image\n",
    "                batch_data[folder,idx,:,:,2] = normalize_img(resized_img[:, : , 2])#normalise and feed in the image\n",
    "\n",
    "            batch_labels[folder, int(t[folder + (num_batches*batch_size)].strip().split(';')[2])] = 1\n",
    "        yield batch_data, batch_labels "
   ]
  },
  {
   "cell_type": "markdown",
   "metadata": {
    "id": "GX4DjQbSHo5m"
   },
   "source": [
    "Note here that a video is represented above in the generator as (number of images, height, width, number of channels). Take this into consideration while creating the model architecture."
   ]
  },
  {
   "cell_type": "code",
   "execution_count": 11,
   "metadata": {
    "colab": {
     "base_uri": "https://localhost:8080/"
    },
    "id": "1ZUWnaErHo5n",
    "outputId": "1923d633-012f-457c-963e-08f7da0371bc"
   },
   "outputs": [
    {
     "name": "stdout",
     "output_type": "stream",
     "text": [
      "# training sequences = 663\n",
      "# validation sequences = 100\n",
      "# epochs = 30\n"
     ]
    }
   ],
   "source": [
    "curr_dt_time = datetime.datetime.now()\n",
    "#train_path = '/content/drive/MyDrive/Project_data/train'\n",
    "#val_path = '/content/drive/MyDrive/Project_data/val'\n",
    "\n",
    "train_path = 'Project_data/train'\n",
    "val_path = 'Project_data/val'\n",
    "#train_path = 'C:/Studies/Upgrad - PGC in ML and DL/Course5 Deep Learning/Group Case Study1 - Neural Networks Project - Gesture Recognition/Project_data/train'\n",
    "#val_path = 'C:/Studies/Upgrad - PGC in ML and DL/Course5 Deep Learning/Group Case Study1 - Neural Networks Project - Gesture Recognition/Project_data/val'\n",
    "num_train_sequences = len(train_doc)\n",
    "print('# training sequences =', num_train_sequences)\n",
    "num_val_sequences = len(val_doc)\n",
    "print('# validation sequences =', num_val_sequences)\n",
    "num_epochs = 30# choose the number of epochs\n",
    "print ('# epochs =', num_epochs)"
   ]
  },
  {
   "cell_type": "markdown",
   "metadata": {
    "id": "q_p0nOueHo5o"
   },
   "source": [
    "## Model\n",
    "Here you make the model using different functionalities that Keras provides. Remember to use `Conv3D` and `MaxPooling3D` and not `Conv2D` and `Maxpooling2D` for a 3D convolution model. You would want to use `TimeDistributed` while building a Conv2D + RNN model. Also remember that the last layer is the softmax. Design the network in such a way that the model is able to give good accuracy on the least number of parameters so that it can fit in the memory of the webcam."
   ]
  },
  {
   "cell_type": "markdown",
   "metadata": {
    "id": "Icubg0W9UZkZ"
   },
   "source": [
    "We will build 3d convolution model first, followed by CNN+RNN"
   ]
  },
  {
   "cell_type": "markdown",
   "metadata": {
    "id": "cFFcheT5VAW7"
   },
   "source": [
    "**Convolution 3D model**"
   ]
  },
  {
   "cell_type": "code",
   "execution_count": 12,
   "metadata": {
    "id": "WfvRAiS0Ho5o"
   },
   "outputs": [],
   "source": [
    "from keras.models import Sequential, Model\n",
    "from keras.layers import Dense, GRU, Flatten, TimeDistributed, BatchNormalization, Activation, Dropout, Conv2D\n",
    "from keras.layers.convolutional import Conv3D, MaxPooling3D\n",
    "from keras.callbacks import ModelCheckpoint, ReduceLROnPlateau\n",
    "from keras import optimizers\n",
    "\n",
    "#write your model here\n",
    "\n",
    "# building 3d convolution model\n",
    "input_shape=(15,img_height,img_width,3)\n",
    "\n",
    "conv_3D_model = Sequential()\n",
    "\n",
    "conv_3D_model.add(Conv3D(16, \n",
    "                 kernel_size=(5,5,5),\n",
    "                 input_shape=input_shape,\n",
    "                 padding='same', name=\"conv1\"))\n",
    "conv_3D_model.add(Activation('relu'))\n",
    "conv_3D_model.add(BatchNormalization())\n",
    "conv_3D_model.add(MaxPooling3D(pool_size=(2,2,2)))\n",
    "\n",
    "conv_3D_model.add(Conv3D(32, \n",
    "                 kernel_size=(3,3,3),\n",
    "                 padding='same',name=\"conv2\"))\n",
    "conv_3D_model.add(Activation('relu'))\n",
    "conv_3D_model.add(BatchNormalization())\n",
    "conv_3D_model.add(MaxPooling3D(pool_size=(2,2,2)))\n",
    "\n",
    "conv_3D_model.add(Conv3D(64, \n",
    "                 kernel_size=(1,3,3), \n",
    "                 padding='same',name=\"conv3\"))\n",
    "conv_3D_model.add(Activation('relu'))\n",
    "conv_3D_model.add(BatchNormalization())\n",
    "conv_3D_model.add(MaxPooling3D(pool_size=(2,2,2)))\n",
    "#conv_3D_model.add(BatchNormalization())\n",
    "conv_3D_model.add(Dropout(0.25))\n",
    "\n",
    "#conv_3D_model.add(MaxPooling3D(pool_size=(2,2,2)))\n",
    "conv_3D_model.add(Flatten())\n",
    "conv_3D_model.add(Dense(128, activation='relu'))\n",
    "conv_3D_model.add(BatchNormalization())\n",
    "conv_3D_model.add(Dropout(0.40))\n",
    "\n",
    "conv_3D_model.add(Dense(64, activation='relu'))\n",
    "conv_3D_model.add(BatchNormalization())\n",
    "conv_3D_model.add(Dropout(0.40))\n",
    "#softmax layer\n",
    "conv_3D_model.add(Dense(5, activation='softmax'))"
   ]
  },
  {
   "cell_type": "markdown",
   "metadata": {
    "id": "k9d79dVlHo5p"
   },
   "source": [
    "Now that you have written the model, the next step is to `compile` the model. When you print the `summary` of the model, you'll see the total number of parameters you have to train."
   ]
  },
  {
   "cell_type": "code",
   "execution_count": 13,
   "metadata": {
    "colab": {
     "base_uri": "https://localhost:8080/"
    },
    "id": "4ogWvac2Ho5p",
    "outputId": "bb0d6919-9eaa-4e7a-d655-1fa3d313f710",
    "scrolled": true
   },
   "outputs": [
    {
     "name": "stdout",
     "output_type": "stream",
     "text": [
      "Model: \"sequential\"\n",
      "_________________________________________________________________\n",
      "Layer (type)                 Output Shape              Param #   \n",
      "=================================================================\n",
      "conv1 (Conv3D)               (None, 15, 120, 160, 16)  6016      \n",
      "_________________________________________________________________\n",
      "activation (Activation)      (None, 15, 120, 160, 16)  0         \n",
      "_________________________________________________________________\n",
      "batch_normalization (BatchNo (None, 15, 120, 160, 16)  64        \n",
      "_________________________________________________________________\n",
      "max_pooling3d (MaxPooling3D) (None, 7, 60, 80, 16)     0         \n",
      "_________________________________________________________________\n",
      "conv2 (Conv3D)               (None, 7, 60, 80, 32)     13856     \n",
      "_________________________________________________________________\n",
      "activation_1 (Activation)    (None, 7, 60, 80, 32)     0         \n",
      "_________________________________________________________________\n",
      "batch_normalization_1 (Batch (None, 7, 60, 80, 32)     128       \n",
      "_________________________________________________________________\n",
      "max_pooling3d_1 (MaxPooling3 (None, 3, 30, 40, 32)     0         \n",
      "_________________________________________________________________\n",
      "conv3 (Conv3D)               (None, 3, 30, 40, 64)     18496     \n",
      "_________________________________________________________________\n",
      "activation_2 (Activation)    (None, 3, 30, 40, 64)     0         \n",
      "_________________________________________________________________\n",
      "batch_normalization_2 (Batch (None, 3, 30, 40, 64)     256       \n",
      "_________________________________________________________________\n",
      "max_pooling3d_2 (MaxPooling3 (None, 1, 15, 20, 64)     0         \n",
      "_________________________________________________________________\n",
      "dropout (Dropout)            (None, 1, 15, 20, 64)     0         \n",
      "_________________________________________________________________\n",
      "flatten (Flatten)            (None, 19200)             0         \n",
      "_________________________________________________________________\n",
      "dense (Dense)                (None, 128)               2457728   \n",
      "_________________________________________________________________\n",
      "batch_normalization_3 (Batch (None, 128)               512       \n",
      "_________________________________________________________________\n",
      "dropout_1 (Dropout)          (None, 128)               0         \n",
      "_________________________________________________________________\n",
      "dense_1 (Dense)              (None, 64)                8256      \n",
      "_________________________________________________________________\n",
      "batch_normalization_4 (Batch (None, 64)                256       \n",
      "_________________________________________________________________\n",
      "dropout_2 (Dropout)          (None, 64)                0         \n",
      "_________________________________________________________________\n",
      "dense_2 (Dense)              (None, 5)                 325       \n",
      "=================================================================\n",
      "Total params: 2,505,893\n",
      "Trainable params: 2,505,285\n",
      "Non-trainable params: 608\n",
      "_________________________________________________________________\n",
      "None\n"
     ]
    }
   ],
   "source": [
    "optimiser = optimizers.Adam(0.001)#write your optimizer\n",
    "conv_3D_model.compile(optimizer=optimiser, loss='categorical_crossentropy', metrics=['categorical_accuracy'])\n",
    "print (conv_3D_model.summary())"
   ]
  },
  {
   "cell_type": "markdown",
   "metadata": {
    "id": "osn1xNGCHo5q"
   },
   "source": [
    "Let us create the `train_generator` and the `val_generator` which will be used in `.fit_generator`."
   ]
  },
  {
   "cell_type": "code",
   "execution_count": 14,
   "metadata": {
    "colab": {
     "base_uri": "https://localhost:8080/",
     "height": 73
    },
    "id": "PJ9MiOyuHo5q",
    "outputId": "e33f4cda-5240-4f4d-f1b9-cbe27a49bd9a"
   },
   "outputs": [
    {
     "data": {
      "text/plain": [
       "'\\nbat_dat,bat_lab=next(train_generator)\\nprint(bat_dat.shape)#gives (10, 15, 120, 160, 3) size with 10 sequences per batch and 15 images per sequence. 120 is height and 160 is width. 3 represents channels.\\nprint(bat_lab)#10*5 matrix. 10 represents number of sequences. 5 represents classes per sequence.\\n'"
      ]
     },
     "execution_count": 14,
     "metadata": {},
     "output_type": "execute_result"
    }
   ],
   "source": [
    "train_generator = generator(train_path, train_doc, batch_size)\n",
    "val_generator = generator(val_path, val_doc, batch_size)\n",
    "\n",
    "'''\n",
    "bat_dat,bat_lab=next(train_generator)\n",
    "print(bat_dat.shape)#gives (10, 15, 120, 160, 3) size with 10 sequences per batch and 15 images per sequence. 120 is height and 160 is width. 3 represents channels.\n",
    "print(bat_lab)#10*5 matrix. 10 represents number of sequences. 5 represents classes per sequence.\n",
    "'''"
   ]
  },
  {
   "cell_type": "code",
   "execution_count": 15,
   "metadata": {
    "colab": {
     "base_uri": "https://localhost:8080/"
    },
    "id": "0SGEWXBHHo5r",
    "outputId": "5e69fa35-5278-4894-b28e-16b41f88d369"
   },
   "outputs": [
    {
     "name": "stderr",
     "output_type": "stream",
     "text": [
      "WARNING: Logging before flag parsing goes to stderr.\n",
      "W0425 17:05:16.595009 139960078784320 callbacks.py:1071] `period` argument is deprecated. Please use `save_freq` to specify the frequency in number of batches seen.\n",
      "W0425 17:05:16.596150 139960078784320 callbacks.py:2207] `epsilon` argument is deprecated and will be removed, use `min_delta` instead.\n"
     ]
    }
   ],
   "source": [
    "model_name = 'model_init' + '_' + str(curr_dt_time).replace(' ','').replace(':','_') + '/'\n",
    "    \n",
    "if not os.path.exists(model_name):\n",
    "    os.mkdir(model_name)\n",
    "        \n",
    "filepath = model_name + 'model-{epoch:05d}-{loss:.5f}-{categorical_accuracy:.5f}-{val_loss:.5f}-{val_categorical_accuracy:.5f}.h5'\n",
    "\n",
    "checkpoint = ModelCheckpoint(filepath, monitor='val_loss', verbose=1, save_best_only=False, save_weights_only=False, mode='auto', period=1)\n",
    "\n",
    "LR = ReduceLROnPlateau(monitor='val_loss', factor=0.01, patience=5, cooldown=4, verbose=1,mode='auto',epsilon=0.0001)# write the REducelronplateau code here\n",
    "callbacks_list = [checkpoint, LR]"
   ]
  },
  {
   "cell_type": "markdown",
   "metadata": {
    "id": "4S-aSx11Ho5s"
   },
   "source": [
    "The `steps_per_epoch` and `validation_steps` are used by `fit_generator` to decide the number of next() calls it need to make."
   ]
  },
  {
   "cell_type": "code",
   "execution_count": 16,
   "metadata": {
    "id": "AOaTQUs1Ho5s"
   },
   "outputs": [],
   "source": [
    "if (num_train_sequences%batch_size) == 0:\n",
    "    steps_per_epoch = int(num_train_sequences/batch_size)\n",
    "else:\n",
    "    steps_per_epoch = (num_train_sequences//batch_size) + 1\n",
    "\n",
    "\n",
    "if (num_val_sequences%batch_size) == 0:\n",
    "    validation_steps = int(num_val_sequences/batch_size)\n",
    "else:\n",
    "    validation_steps = (num_val_sequences//batch_size) + 1"
   ]
  },
  {
   "cell_type": "markdown",
   "metadata": {
    "id": "jn4VrN_pHo5s"
   },
   "source": [
    "Let us now fit the model. This will start training the model and with the help of the checkpoints, you'll be able to save the model at the end of each epoch."
   ]
  },
  {
   "cell_type": "code",
   "execution_count": 15,
   "metadata": {
    "colab": {
     "base_uri": "https://localhost:8080/"
    },
    "id": "SGZZy7cZHo5t",
    "outputId": "516eae06-11fc-4816-f4b8-7701ab06059a"
   },
   "outputs": [
    {
     "name": "stderr",
     "output_type": "stream",
     "text": [
      "W0425 10:34:43.663279 139708574598976 deprecation.py:323] From <ipython-input-15-9f69886f7c95>:3: Model.fit_generator (from tensorflow.python.keras.engine.training) is deprecated and will be removed in a future version.\n",
      "Instructions for updating:\n",
      "Please use Model.fit, which supports generators.\n"
     ]
    },
    {
     "name": "stdout",
     "output_type": "stream",
     "text": [
      "Source path =  Project_data/train ; batch size = 10\n",
      "Epoch 1/30\n",
      "67/67 [==============================] - ETA: 0s - loss: 2.0066 - categorical_accuracy: 0.3394Source path =  Project_data/val ; batch size = 10\n",
      "\n",
      "Epoch 00001: saving model to model_init_2021-04-2510_34_40.410763/model-00001-2.00657-0.33937-4.15404-0.17000.h5\n",
      "67/67 [==============================] - 53s 785ms/step - loss: 2.0066 - categorical_accuracy: 0.3394 - val_loss: 4.1540 - val_categorical_accuracy: 0.1700 - lr: 0.0010\n",
      "Epoch 2/30\n",
      "67/67 [==============================] - ETA: 0s - loss: 1.6107 - categorical_accuracy: 0.4223\n",
      "Epoch 00002: saving model to model_init_2021-04-2510_34_40.410763/model-00002-1.61075-0.42232-5.91296-0.19000.h5\n",
      "67/67 [==============================] - 52s 770ms/step - loss: 1.6107 - categorical_accuracy: 0.4223 - val_loss: 5.9130 - val_categorical_accuracy: 0.1900 - lr: 0.0010\n",
      "Epoch 3/30\n",
      "67/67 [==============================] - ETA: 0s - loss: 1.2690 - categorical_accuracy: 0.5113\n",
      "Epoch 00003: saving model to model_init_2021-04-2510_34_40.410763/model-00003-1.26903-0.51131-2.47601-0.30000.h5\n",
      "67/67 [==============================] - 51s 765ms/step - loss: 1.2690 - categorical_accuracy: 0.5113 - val_loss: 2.4760 - val_categorical_accuracy: 0.3000 - lr: 0.0010\n",
      "Epoch 4/30\n",
      "67/67 [==============================] - ETA: 0s - loss: 1.2614 - categorical_accuracy: 0.5128\n",
      "Epoch 00004: saving model to model_init_2021-04-2510_34_40.410763/model-00004-1.26138-0.51282-1.52227-0.36000.h5\n",
      "67/67 [==============================] - 51s 766ms/step - loss: 1.2614 - categorical_accuracy: 0.5128 - val_loss: 1.5223 - val_categorical_accuracy: 0.3600 - lr: 0.0010\n",
      "Epoch 5/30\n",
      "67/67 [==============================] - ETA: 0s - loss: 1.1722 - categorical_accuracy: 0.5400\n",
      "Epoch 00005: saving model to model_init_2021-04-2510_34_40.410763/model-00005-1.17216-0.53997-4.76920-0.29000.h5\n",
      "67/67 [==============================] - 51s 762ms/step - loss: 1.1722 - categorical_accuracy: 0.5400 - val_loss: 4.7692 - val_categorical_accuracy: 0.2900 - lr: 0.0010\n",
      "Epoch 6/30\n",
      "67/67 [==============================] - ETA: 0s - loss: 0.9612 - categorical_accuracy: 0.6184\n",
      "Epoch 00006: saving model to model_init_2021-04-2510_34_40.410763/model-00006-0.96116-0.61840-1.50911-0.51000.h5\n",
      "67/67 [==============================] - 51s 764ms/step - loss: 0.9612 - categorical_accuracy: 0.6184 - val_loss: 1.5091 - val_categorical_accuracy: 0.5100 - lr: 0.0010\n",
      "Epoch 7/30\n",
      "67/67 [==============================] - ETA: 0s - loss: 1.0541 - categorical_accuracy: 0.5822\n",
      "Epoch 00007: saving model to model_init_2021-04-2510_34_40.410763/model-00007-1.05410-0.58220-1.46261-0.44000.h5\n",
      "67/67 [==============================] - 51s 759ms/step - loss: 1.0541 - categorical_accuracy: 0.5822 - val_loss: 1.4626 - val_categorical_accuracy: 0.4400 - lr: 0.0010\n",
      "Epoch 8/30\n",
      "67/67 [==============================] - ETA: 0s - loss: 0.8390 - categorical_accuracy: 0.6938\n",
      "Epoch 00008: saving model to model_init_2021-04-2510_34_40.410763/model-00008-0.83903-0.69382-1.38728-0.49000.h5\n",
      "67/67 [==============================] - 51s 760ms/step - loss: 0.8390 - categorical_accuracy: 0.6938 - val_loss: 1.3873 - val_categorical_accuracy: 0.4900 - lr: 0.0010\n",
      "Epoch 9/30\n",
      "67/67 [==============================] - ETA: 0s - loss: 0.8609 - categorical_accuracy: 0.6893\n",
      "Epoch 00009: saving model to model_init_2021-04-2510_34_40.410763/model-00009-0.86088-0.68929-1.31897-0.47000.h5\n",
      "67/67 [==============================] - 51s 762ms/step - loss: 0.8609 - categorical_accuracy: 0.6893 - val_loss: 1.3190 - val_categorical_accuracy: 0.4700 - lr: 0.0010\n",
      "Epoch 10/30\n",
      "67/67 [==============================] - ETA: 0s - loss: 0.7921 - categorical_accuracy: 0.6968\n",
      "Epoch 00010: saving model to model_init_2021-04-2510_34_40.410763/model-00010-0.79212-0.69683-0.97525-0.64000.h5\n",
      "67/67 [==============================] - 51s 760ms/step - loss: 0.7921 - categorical_accuracy: 0.6968 - val_loss: 0.9752 - val_categorical_accuracy: 0.6400 - lr: 0.0010\n",
      "Epoch 11/30\n",
      "67/67 [==============================] - ETA: 0s - loss: 0.6715 - categorical_accuracy: 0.7496\n",
      "Epoch 00011: saving model to model_init_2021-04-2510_34_40.410763/model-00011-0.67154-0.74962-0.84454-0.68000.h5\n",
      "67/67 [==============================] - 51s 760ms/step - loss: 0.6715 - categorical_accuracy: 0.7496 - val_loss: 0.8445 - val_categorical_accuracy: 0.6800 - lr: 0.0010\n",
      "Epoch 12/30\n",
      "67/67 [==============================] - ETA: 0s - loss: 0.6137 - categorical_accuracy: 0.7662\n",
      "Epoch 00012: saving model to model_init_2021-04-2510_34_40.410763/model-00012-0.61373-0.76621-0.85280-0.71000.h5\n",
      "67/67 [==============================] - 51s 766ms/step - loss: 0.6137 - categorical_accuracy: 0.7662 - val_loss: 0.8528 - val_categorical_accuracy: 0.7100 - lr: 0.0010\n",
      "Epoch 13/30\n",
      "67/67 [==============================] - ETA: 0s - loss: 0.8727 - categorical_accuracy: 0.6637\n",
      "Epoch 00013: saving model to model_init_2021-04-2510_34_40.410763/model-00013-0.87266-0.66365-0.98046-0.68000.h5\n",
      "67/67 [==============================] - 52s 770ms/step - loss: 0.8727 - categorical_accuracy: 0.6637 - val_loss: 0.9805 - val_categorical_accuracy: 0.6800 - lr: 0.0010\n",
      "Epoch 14/30\n",
      "67/67 [==============================] - ETA: 0s - loss: 0.7048 - categorical_accuracy: 0.7360\n",
      "Epoch 00014: saving model to model_init_2021-04-2510_34_40.410763/model-00014-0.70476-0.73605-9.26091-0.42000.h5\n",
      "67/67 [==============================] - 51s 767ms/step - loss: 0.7048 - categorical_accuracy: 0.7360 - val_loss: 9.2609 - val_categorical_accuracy: 0.4200 - lr: 0.0010\n",
      "Epoch 15/30\n",
      "67/67 [==============================] - ETA: 0s - loss: 0.7885 - categorical_accuracy: 0.7149\n",
      "Epoch 00015: saving model to model_init_2021-04-2510_34_40.410763/model-00015-0.78848-0.71493-68.01962-0.23000.h5\n",
      "67/67 [==============================] - 51s 765ms/step - loss: 0.7885 - categorical_accuracy: 0.7149 - val_loss: 68.0196 - val_categorical_accuracy: 0.2300 - lr: 0.0010\n",
      "Epoch 16/30\n",
      "67/67 [==============================] - ETA: 0s - loss: 0.9194 - categorical_accuracy: 0.6546\n",
      "Epoch 00016: saving model to model_init_2021-04-2510_34_40.410763/model-00016-0.91938-0.65460-5.56023-0.25000.h5\n",
      "\n",
      "Epoch 00016: ReduceLROnPlateau reducing learning rate to 1.0000000474974514e-05.\n",
      "67/67 [==============================] - 51s 764ms/step - loss: 0.9194 - categorical_accuracy: 0.6546 - val_loss: 5.5602 - val_categorical_accuracy: 0.2500 - lr: 0.0010\n",
      "Epoch 17/30\n",
      "67/67 [==============================] - ETA: 0s - loss: 0.7746 - categorical_accuracy: 0.6893\n",
      "Epoch 00017: saving model to model_init_2021-04-2510_34_40.410763/model-00017-0.77458-0.68929-1.62785-0.46000.h5\n",
      "67/67 [==============================] - 52s 769ms/step - loss: 0.7746 - categorical_accuracy: 0.6893 - val_loss: 1.6279 - val_categorical_accuracy: 0.4600 - lr: 1.0000e-05\n",
      "Epoch 18/30\n",
      "67/67 [==============================] - ETA: 0s - loss: 0.7370 - categorical_accuracy: 0.7164\n",
      "Epoch 00018: saving model to model_init_2021-04-2510_34_40.410763/model-00018-0.73700-0.71644-0.96972-0.59000.h5\n",
      "67/67 [==============================] - 52s 773ms/step - loss: 0.7370 - categorical_accuracy: 0.7164 - val_loss: 0.9697 - val_categorical_accuracy: 0.5900 - lr: 1.0000e-05\n",
      "Epoch 19/30\n",
      "67/67 [==============================] - ETA: 0s - loss: 0.7813 - categorical_accuracy: 0.7104\n",
      "Epoch 00019: saving model to model_init_2021-04-2510_34_40.410763/model-00019-0.78130-0.71041-0.86556-0.66000.h5\n",
      "67/67 [==============================] - 51s 762ms/step - loss: 0.7813 - categorical_accuracy: 0.7104 - val_loss: 0.8656 - val_categorical_accuracy: 0.6600 - lr: 1.0000e-05\n",
      "Epoch 20/30\n",
      "67/67 [==============================] - ETA: 0s - loss: 0.7060 - categorical_accuracy: 0.7270\n",
      "Epoch 00020: saving model to model_init_2021-04-2510_34_40.410763/model-00020-0.70601-0.72700-0.86542-0.66000.h5\n",
      "67/67 [==============================] - 51s 755ms/step - loss: 0.7060 - categorical_accuracy: 0.7270 - val_loss: 0.8654 - val_categorical_accuracy: 0.6600 - lr: 1.0000e-05\n",
      "Epoch 21/30\n",
      "67/67 [==============================] - ETA: 0s - loss: 0.7352 - categorical_accuracy: 0.7240\n",
      "Epoch 00021: saving model to model_init_2021-04-2510_34_40.410763/model-00021-0.73521-0.72398-0.88116-0.67000.h5\n",
      "67/67 [==============================] - 50s 753ms/step - loss: 0.7352 - categorical_accuracy: 0.7240 - val_loss: 0.8812 - val_categorical_accuracy: 0.6700 - lr: 1.0000e-05\n"
     ]
    },
    {
     "name": "stdout",
     "output_type": "stream",
     "text": [
      "Epoch 22/30\n",
      "67/67 [==============================] - ETA: 0s - loss: 0.6740 - categorical_accuracy: 0.7557\n",
      "Epoch 00022: saving model to model_init_2021-04-2510_34_40.410763/model-00022-0.67405-0.75566-0.88617-0.69000.h5\n",
      "67/67 [==============================] - 50s 751ms/step - loss: 0.6740 - categorical_accuracy: 0.7557 - val_loss: 0.8862 - val_categorical_accuracy: 0.6900 - lr: 1.0000e-05\n",
      "Epoch 23/30\n",
      "67/67 [==============================] - ETA: 0s - loss: 0.7093 - categorical_accuracy: 0.7360\n",
      "Epoch 00023: saving model to model_init_2021-04-2510_34_40.410763/model-00023-0.70933-0.73605-0.89394-0.68000.h5\n",
      "67/67 [==============================] - 51s 765ms/step - loss: 0.7093 - categorical_accuracy: 0.7360 - val_loss: 0.8939 - val_categorical_accuracy: 0.6800 - lr: 1.0000e-05\n",
      "Epoch 24/30\n",
      "67/67 [==============================] - ETA: 0s - loss: 0.6569 - categorical_accuracy: 0.7466\n",
      "Epoch 00024: saving model to model_init_2021-04-2510_34_40.410763/model-00024-0.65686-0.74661-0.89739-0.68000.h5\n",
      "\n",
      "Epoch 00024: ReduceLROnPlateau reducing learning rate to 1.0000000656873453e-07.\n",
      "67/67 [==============================] - 51s 767ms/step - loss: 0.6569 - categorical_accuracy: 0.7466 - val_loss: 0.8974 - val_categorical_accuracy: 0.6800 - lr: 1.0000e-05\n",
      "Epoch 25/30\n",
      "67/67 [==============================] - ETA: 0s - loss: 0.6896 - categorical_accuracy: 0.7300\n",
      "Epoch 00025: saving model to model_init_2021-04-2510_34_40.410763/model-00025-0.68957-0.73002-0.88951-0.67000.h5\n",
      "67/67 [==============================] - 51s 764ms/step - loss: 0.6896 - categorical_accuracy: 0.7300 - val_loss: 0.8895 - val_categorical_accuracy: 0.6700 - lr: 1.0000e-07\n",
      "Epoch 26/30\n",
      "67/67 [==============================] - ETA: 0s - loss: 0.7540 - categorical_accuracy: 0.7089\n",
      "Epoch 00026: saving model to model_init_2021-04-2510_34_40.410763/model-00026-0.75399-0.70890-0.88664-0.68000.h5\n",
      "67/67 [==============================] - 51s 757ms/step - loss: 0.7540 - categorical_accuracy: 0.7089 - val_loss: 0.8866 - val_categorical_accuracy: 0.6800 - lr: 1.0000e-07\n",
      "Epoch 27/30\n",
      "67/67 [==============================] - ETA: 0s - loss: 0.6954 - categorical_accuracy: 0.7436\n",
      "Epoch 00027: saving model to model_init_2021-04-2510_34_40.410763/model-00027-0.69536-0.74359-0.88749-0.67000.h5\n",
      "67/67 [==============================] - 51s 761ms/step - loss: 0.6954 - categorical_accuracy: 0.7436 - val_loss: 0.8875 - val_categorical_accuracy: 0.6700 - lr: 1.0000e-07\n",
      "Epoch 28/30\n",
      "67/67 [==============================] - ETA: 0s - loss: 0.6487 - categorical_accuracy: 0.7451\n",
      "Epoch 00028: saving model to model_init_2021-04-2510_34_40.410763/model-00028-0.64870-0.74510-0.88493-0.67000.h5\n",
      "67/67 [==============================] - 51s 765ms/step - loss: 0.6487 - categorical_accuracy: 0.7451 - val_loss: 0.8849 - val_categorical_accuracy: 0.6700 - lr: 1.0000e-07\n",
      "Epoch 29/30\n",
      "67/67 [==============================] - ETA: 0s - loss: 0.6492 - categorical_accuracy: 0.7481\n",
      "Epoch 00029: saving model to model_init_2021-04-2510_34_40.410763/model-00029-0.64923-0.74811-0.88502-0.67000.h5\n",
      "67/67 [==============================] - 51s 768ms/step - loss: 0.6492 - categorical_accuracy: 0.7481 - val_loss: 0.8850 - val_categorical_accuracy: 0.6700 - lr: 1.0000e-07\n",
      "Epoch 30/30\n",
      "67/67 [==============================] - ETA: 0s - loss: 0.6722 - categorical_accuracy: 0.7481\n",
      "Epoch 00030: saving model to model_init_2021-04-2510_34_40.410763/model-00030-0.67219-0.74811-0.88462-0.68000.h5\n",
      "67/67 [==============================] - 52s 772ms/step - loss: 0.6722 - categorical_accuracy: 0.7481 - val_loss: 0.8846 - val_categorical_accuracy: 0.6800 - lr: 1.0000e-07\n"
     ]
    },
    {
     "data": {
      "text/plain": [
       "<tensorflow.python.keras.callbacks.History at 0x7f0fbc401630>"
      ]
     },
     "execution_count": 15,
     "metadata": {},
     "output_type": "execute_result"
    }
   ],
   "source": [
    "conv_3D_model.fit_generator(train_generator, steps_per_epoch=steps_per_epoch, epochs=num_epochs, verbose=1, \n",
    "                    callbacks=callbacks_list, validation_data=val_generator, \n",
    "                    validation_steps=validation_steps, class_weight=None, workers=1, initial_epoch=0)"
   ]
  },
  {
   "cell_type": "markdown",
   "metadata": {
    "id": "gZl9jzMqbTbD"
   },
   "source": [
    "**CNN+RNN model**"
   ]
  },
  {
   "cell_type": "markdown",
   "metadata": {
    "id": "hxBQl76JbZ2f"
   },
   "source": [
    "We will create a CNN model(with resnet transfer learning) and feed it's extracted features to RNN"
   ]
  },
  {
   "cell_type": "code",
   "execution_count": 17,
   "metadata": {
    "id": "7qE7ohjrHo5t"
   },
   "outputs": [],
   "source": [
    "from tensorflow.keras.applications.resnet50 import ResNet50\n",
    "from keras.layers import Dense, GRU, Flatten, TimeDistributed, BatchNormalization, Activation, Dropout, Conv2D\n",
    "from keras.layers.convolutional import Conv3D, MaxPooling3D, MaxPooling2D\n",
    "#from keras.models import Sequential"
   ]
  },
  {
   "cell_type": "code",
   "execution_count": 24,
   "metadata": {
    "colab": {
     "base_uri": "https://localhost:8080/"
    },
    "id": "kgLSd49jc0eV",
    "outputId": "51e6a31c-c2f6-48e6-ef78-37e8bd4a366c"
   },
   "outputs": [
    {
     "name": "stdout",
     "output_type": "stream",
     "text": [
      "Model: \"sequential_2\"\n",
      "_________________________________________________________________\n",
      "Layer (type)                 Output Shape              Param #   \n",
      "=================================================================\n",
      "time_distributed_8 (TimeDist (None, 15, 4, 5, 2048)    23587712  \n",
      "_________________________________________________________________\n",
      "time_distributed_9 (TimeDist (None, 15, 4, 5, 16)      294928    \n",
      "_________________________________________________________________\n",
      "time_distributed_10 (TimeDis (None, 15, 4, 5, 16)      64        \n",
      "_________________________________________________________________\n",
      "time_distributed_11 (TimeDis (None, 15, 2, 2, 16)      0         \n",
      "_________________________________________________________________\n",
      "time_distributed_12 (TimeDis (None, 15, 2, 2, 32)      4640      \n",
      "_________________________________________________________________\n",
      "time_distributed_13 (TimeDis (None, 15, 2, 2, 32)      128       \n",
      "_________________________________________________________________\n",
      "time_distributed_14 (TimeDis (None, 15, 1, 1, 32)      0         \n",
      "_________________________________________________________________\n",
      "time_distributed_15 (TimeDis (None, 15, 32)            0         \n",
      "_________________________________________________________________\n",
      "dense_4 (Dense)              (None, 15, 128)           4224      \n",
      "_________________________________________________________________\n",
      "dropout_4 (Dropout)          (None, 15, 128)           0         \n",
      "_________________________________________________________________\n",
      "gru_1 (GRU)                  (None, 128)               99072     \n",
      "_________________________________________________________________\n",
      "dense_5 (Dense)              (None, 5)                 645       \n",
      "=================================================================\n",
      "Total params: 23,991,413\n",
      "Trainable params: 1,458,325\n",
      "Non-trainable params: 22,533,088\n",
      "_________________________________________________________________\n"
     ]
    }
   ],
   "source": [
    "#resnet = ResNet50(include_top=False,weights='imagenet',input_shape=(224,224,3))\n",
    "resnet = ResNet50(include_top=False,weights='imagenet',input_shape=(img_height,img_width,3))\n",
    "for layer in resnet.layers[:-5]:\n",
    "    layer.trainable=False\n",
    "model = Sequential()\n",
    "model.add(TimeDistributed(resnet,input_shape=(15,img_height,img_width,3)))\n",
    "\n",
    "model.add(TimeDistributed(Conv2D(16, (3,3),padding='same', activation='relu')))\n",
    "model.add(TimeDistributed(BatchNormalization()))\n",
    "model.add(TimeDistributed(MaxPooling2D((2, 2), strides=(2, 2))))\n",
    "#model.add(Dropout(0.25))\n",
    "\n",
    "\n",
    "model.add(TimeDistributed(Conv2D(32, (3,3),padding='same', activation='relu')))\n",
    "model.add(TimeDistributed(BatchNormalization()))\n",
    "model.add(TimeDistributed(MaxPooling2D((2, 2), strides=(2, 2))))\n",
    "\n",
    "#model.add(Dropout(0.25))\n",
    "\n",
    "model.add(TimeDistributed(Flatten()))\n",
    "\n",
    "\n",
    "model.add(Dense(128, activation='relu'))\n",
    "model.add(Dropout(0.25))\n",
    "'''\n",
    "model.add(Dense(64, activation='relu'))\n",
    "model.add(Dropout(0.25))\n",
    "'''\n",
    "model.add(GRU(128, return_sequences=False))\n",
    "model.add(Dense(5, activation='softmax')) # using Softmax as last layer\n",
    "\n",
    "#model = Sequential([resnet,Flatten(),Dense(64,activation='relu'),Dense(5,activation='softmax')])\n",
    "model.summary()"
   ]
  },
  {
   "cell_type": "code",
   "execution_count": 25,
   "metadata": {
    "id": "q1HSFj3Qu3BI"
   },
   "outputs": [
    {
     "data": {
      "text/plain": [
       "\"\\n#resnet = ResNet50(include_top=False,weights='imagenet',input_shape=(224,224,3))\\nresnet = ResNet50(include_top=False,weights='imagenet',input_shape=(img_height,img_width,3))\\n\\nfor layer in resnet.layers[:-5]:\\n    layer.trainable=False\\n\\n\\ncnn =Sequential([resnet])\\ncnn.add(Conv2D(64,(2,2),strides=(1,1),padding='same', activation='relu'))\\ncnn.add(Conv2D(16,(3,3),strides=(1,1),padding='same', activation='relu'))\\ncnn.add(Flatten())\\n\\n#resnet.summary()\\ncnn.summary()\\n\""
      ]
     },
     "execution_count": 25,
     "metadata": {},
     "output_type": "execute_result"
    }
   ],
   "source": [
    "'''\n",
    "#resnet = ResNet50(include_top=False,weights='imagenet',input_shape=(224,224,3))\n",
    "resnet = ResNet50(include_top=False,weights='imagenet',input_shape=(img_height,img_width,3))\n",
    "\n",
    "for layer in resnet.layers[:-5]:\n",
    "    layer.trainable=False\n",
    "\n",
    "\n",
    "cnn =Sequential([resnet])\n",
    "cnn.add(Conv2D(64,(2,2),strides=(1,1),padding='same', activation='relu'))\n",
    "cnn.add(Conv2D(16,(3,3),strides=(1,1),padding='same', activation='relu'))\n",
    "cnn.add(Flatten())\n",
    "\n",
    "#resnet.summary()\n",
    "cnn.summary()\n",
    "'''"
   ]
  },
  {
   "cell_type": "code",
   "execution_count": 26,
   "metadata": {
    "id": "l2Ruz40gvKr5"
   },
   "outputs": [
    {
     "data": {
      "text/plain": [
       "\"\\nmodel = Sequential()\\n#model.add(TimeDistributed(cnn,input_shape=(30,224,224,3)))\\nmodel.add(TimeDistributed(cnn,input_shape=(15,img_height,img_width,3)))\\n#model.add(GRU(16,input_shape=(None,15,127,127,8),return_sequences=True))\\nmodel.add(GRU(16,input_shape=(None,15,32),return_sequences=True))\\nmodel.add(GRU(8))\\nmodel.add(Dense(5,activation='softmax'))\\nmodel.summary()\\n\""
      ]
     },
     "execution_count": 26,
     "metadata": {},
     "output_type": "execute_result"
    }
   ],
   "source": [
    "'''\n",
    "model = Sequential()\n",
    "#model.add(TimeDistributed(cnn,input_shape=(30,224,224,3)))\n",
    "model.add(TimeDistributed(cnn,input_shape=(15,img_height,img_width,3)))\n",
    "#model.add(GRU(16,input_shape=(None,15,127,127,8),return_sequences=True))\n",
    "model.add(GRU(16,input_shape=(None,15,32),return_sequences=True))\n",
    "model.add(GRU(8))\n",
    "model.add(Dense(5,activation='softmax'))\n",
    "model.summary()\n",
    "'''"
   ]
  },
  {
   "cell_type": "code",
   "execution_count": 27,
   "metadata": {
    "id": "MJVzsd9DvpDt"
   },
   "outputs": [],
   "source": [
    "#opt = tf.keras.optimizers.SGD(lr=0.001,...) \n",
    "#model.compile(loss='categorical_crossentropy',optimizer=opt,metrics=['accuracy'])\n",
    "optimiser = optimizers.Adam(0.001)\n",
    "model.compile(loss='categorical_crossentropy',optimizer=optimiser,metrics=['categorical_accuracy'])"
   ]
  },
  {
   "cell_type": "code",
   "execution_count": 28,
   "metadata": {
    "colab": {
     "base_uri": "https://localhost:8080/"
    },
    "id": "03y20am0QI2z",
    "outputId": "182e1e98-9992-4938-ba25-6bb83cbee1e5"
   },
   "outputs": [
    {
     "name": "stdout",
     "output_type": "stream",
     "text": [
      "Epoch 1/20\n",
      "67/67 [==============================] - ETA: 0s - loss: 1.5665 - categorical_accuracy: 0.2896\n",
      "Epoch 00001: saving model to model_init_2021-04-2517_05_02.433584/model-00001-1.56652-0.28959-1.97213-0.26000.h5\n",
      "67/67 [==============================] - 55s 817ms/step - loss: 1.5665 - categorical_accuracy: 0.2896 - val_loss: 1.9721 - val_categorical_accuracy: 0.2600 - lr: 0.0010\n",
      "Epoch 2/20\n",
      "67/67 [==============================] - ETA: 0s - loss: 1.4047 - categorical_accuracy: 0.3575\n",
      "Epoch 00002: saving model to model_init_2021-04-2517_05_02.433584/model-00002-1.40469-0.35747-1.64569-0.31000.h5\n",
      "67/67 [==============================] - 52s 770ms/step - loss: 1.4047 - categorical_accuracy: 0.3575 - val_loss: 1.6457 - val_categorical_accuracy: 0.3100 - lr: 0.0010\n",
      "Epoch 3/20\n",
      "67/67 [==============================] - ETA: 0s - loss: 1.3556 - categorical_accuracy: 0.4268\n",
      "Epoch 00003: saving model to model_init_2021-04-2517_05_02.433584/model-00003-1.35562-0.42685-1.74842-0.32000.h5\n",
      "67/67 [==============================] - 51s 764ms/step - loss: 1.3556 - categorical_accuracy: 0.4268 - val_loss: 1.7484 - val_categorical_accuracy: 0.3200 - lr: 0.0010\n",
      "Epoch 4/20\n",
      "67/67 [==============================] - ETA: 0s - loss: 1.2702 - categorical_accuracy: 0.4525\n",
      "Epoch 00004: saving model to model_init_2021-04-2517_05_02.433584/model-00004-1.27018-0.45249-2.56519-0.22000.h5\n",
      "67/67 [==============================] - 52s 770ms/step - loss: 1.2702 - categorical_accuracy: 0.4525 - val_loss: 2.5652 - val_categorical_accuracy: 0.2200 - lr: 0.0010\n",
      "Epoch 5/20\n",
      "67/67 [==============================] - ETA: 0s - loss: 1.1935 - categorical_accuracy: 0.5098\n",
      "Epoch 00005: saving model to model_init_2021-04-2517_05_02.433584/model-00005-1.19349-0.50980-1.52214-0.30000.h5\n",
      "67/67 [==============================] - 51s 765ms/step - loss: 1.1935 - categorical_accuracy: 0.5098 - val_loss: 1.5221 - val_categorical_accuracy: 0.3000 - lr: 0.0010\n",
      "Epoch 6/20\n",
      "67/67 [==============================] - ETA: 0s - loss: 1.1482 - categorical_accuracy: 0.5430\n",
      "Epoch 00006: saving model to model_init_2021-04-2517_05_02.433584/model-00006-1.14823-0.54299-2.24538-0.20000.h5\n",
      "67/67 [==============================] - 51s 769ms/step - loss: 1.1482 - categorical_accuracy: 0.5430 - val_loss: 2.2454 - val_categorical_accuracy: 0.2000 - lr: 0.0010\n",
      "Epoch 7/20\n",
      "67/67 [==============================] - ETA: 0s - loss: 1.1721 - categorical_accuracy: 0.5535\n",
      "Epoch 00007: saving model to model_init_2021-04-2517_05_02.433584/model-00007-1.17211-0.55354-2.06876-0.26000.h5\n",
      "67/67 [==============================] - 52s 779ms/step - loss: 1.1721 - categorical_accuracy: 0.5535 - val_loss: 2.0688 - val_categorical_accuracy: 0.2600 - lr: 0.0010\n",
      "Epoch 8/20\n",
      "67/67 [==============================] - ETA: 0s - loss: 1.1182 - categorical_accuracy: 0.5732\n",
      "Epoch 00008: saving model to model_init_2021-04-2517_05_02.433584/model-00008-1.11819-0.57315-1.73860-0.29000.h5\n",
      "67/67 [==============================] - 51s 758ms/step - loss: 1.1182 - categorical_accuracy: 0.5732 - val_loss: 1.7386 - val_categorical_accuracy: 0.2900 - lr: 0.0010\n",
      "Epoch 9/20\n",
      "67/67 [==============================] - ETA: 0s - loss: 1.1455 - categorical_accuracy: 0.5671\n",
      "Epoch 00009: saving model to model_init_2021-04-2517_05_02.433584/model-00009-1.14548-0.56712-3.40089-0.22000.h5\n",
      "67/67 [==============================] - 51s 767ms/step - loss: 1.1455 - categorical_accuracy: 0.5671 - val_loss: 3.4009 - val_categorical_accuracy: 0.2200 - lr: 0.0010\n",
      "Epoch 10/20\n",
      "67/67 [==============================] - ETA: 0s - loss: 0.9976 - categorical_accuracy: 0.5988\n",
      "Epoch 00010: saving model to model_init_2021-04-2517_05_02.433584/model-00010-0.99761-0.59879-1.58625-0.33000.h5\n",
      "\n",
      "Epoch 00010: ReduceLROnPlateau reducing learning rate to 1.0000000474974514e-05.\n",
      "67/67 [==============================] - 51s 757ms/step - loss: 0.9976 - categorical_accuracy: 0.5988 - val_loss: 1.5863 - val_categorical_accuracy: 0.3300 - lr: 0.0010\n",
      "Epoch 11/20\n",
      "67/67 [==============================] - ETA: 0s - loss: 0.9311 - categorical_accuracy: 0.6516\n",
      "Epoch 00011: saving model to model_init_2021-04-2517_05_02.433584/model-00011-0.93105-0.65158-1.31040-0.41000.h5\n",
      "67/67 [==============================] - 51s 766ms/step - loss: 0.9311 - categorical_accuracy: 0.6516 - val_loss: 1.3104 - val_categorical_accuracy: 0.4100 - lr: 1.0000e-05\n",
      "Epoch 12/20\n",
      "67/67 [==============================] - ETA: 0s - loss: 0.9468 - categorical_accuracy: 0.6591\n",
      "Epoch 00012: saving model to model_init_2021-04-2517_05_02.433584/model-00012-0.94681-0.65913-1.27933-0.47000.h5\n",
      "67/67 [==============================] - 52s 769ms/step - loss: 0.9468 - categorical_accuracy: 0.6591 - val_loss: 1.2793 - val_categorical_accuracy: 0.4700 - lr: 1.0000e-05\n",
      "Epoch 13/20\n",
      "67/67 [==============================] - ETA: 0s - loss: 0.8998 - categorical_accuracy: 0.6516\n",
      "Epoch 00013: saving model to model_init_2021-04-2517_05_02.433584/model-00013-0.89981-0.65158-1.30214-0.48000.h5\n",
      "67/67 [==============================] - 51s 757ms/step - loss: 0.8998 - categorical_accuracy: 0.6516 - val_loss: 1.3021 - val_categorical_accuracy: 0.4800 - lr: 1.0000e-05\n",
      "Epoch 14/20\n",
      "67/67 [==============================] - ETA: 0s - loss: 0.8690 - categorical_accuracy: 0.6667\n",
      "Epoch 00014: saving model to model_init_2021-04-2517_05_02.433584/model-00014-0.86901-0.66667-1.32583-0.48000.h5\n",
      "67/67 [==============================] - 50s 753ms/step - loss: 0.8690 - categorical_accuracy: 0.6667 - val_loss: 1.3258 - val_categorical_accuracy: 0.4800 - lr: 1.0000e-05\n",
      "Epoch 15/20\n",
      "67/67 [==============================] - ETA: 0s - loss: 0.8700 - categorical_accuracy: 0.6757\n",
      "Epoch 00015: saving model to model_init_2021-04-2517_05_02.433584/model-00015-0.87003-0.67572-1.33907-0.47000.h5\n",
      "67/67 [==============================] - 51s 761ms/step - loss: 0.8700 - categorical_accuracy: 0.6757 - val_loss: 1.3391 - val_categorical_accuracy: 0.4700 - lr: 1.0000e-05\n",
      "Epoch 16/20\n",
      "67/67 [==============================] - ETA: 0s - loss: 0.8466 - categorical_accuracy: 0.6953\n",
      "Epoch 00016: saving model to model_init_2021-04-2517_05_02.433584/model-00016-0.84661-0.69532-1.35280-0.47000.h5\n",
      "67/67 [==============================] - 50s 751ms/step - loss: 0.8466 - categorical_accuracy: 0.6953 - val_loss: 1.3528 - val_categorical_accuracy: 0.4700 - lr: 1.0000e-05\n",
      "Epoch 17/20\n",
      "67/67 [==============================] - ETA: 0s - loss: 0.8685 - categorical_accuracy: 0.6863\n",
      "Epoch 00017: saving model to model_init_2021-04-2517_05_02.433584/model-00017-0.86845-0.68627-1.35721-0.48000.h5\n",
      "67/67 [==============================] - 51s 757ms/step - loss: 0.8685 - categorical_accuracy: 0.6863 - val_loss: 1.3572 - val_categorical_accuracy: 0.4800 - lr: 1.0000e-05\n",
      "Epoch 18/20\n",
      "67/67 [==============================] - ETA: 0s - loss: 0.8330 - categorical_accuracy: 0.6908\n",
      "Epoch 00018: saving model to model_init_2021-04-2517_05_02.433584/model-00018-0.83302-0.69080-1.35503-0.50000.h5\n",
      "\n",
      "Epoch 00018: ReduceLROnPlateau reducing learning rate to 1.0000000656873453e-07.\n",
      "67/67 [==============================] - 51s 758ms/step - loss: 0.8330 - categorical_accuracy: 0.6908 - val_loss: 1.3550 - val_categorical_accuracy: 0.5000 - lr: 1.0000e-05\n",
      "Epoch 19/20\n",
      "67/67 [==============================] - ETA: 0s - loss: 0.8148 - categorical_accuracy: 0.7089\n",
      "Epoch 00019: saving model to model_init_2021-04-2517_05_02.433584/model-00019-0.81477-0.70890-1.35150-0.50000.h5\n",
      "67/67 [==============================] - 51s 757ms/step - loss: 0.8148 - categorical_accuracy: 0.7089 - val_loss: 1.3515 - val_categorical_accuracy: 0.5000 - lr: 1.0000e-07\n",
      "Epoch 20/20\n",
      "67/67 [==============================] - ETA: 0s - loss: 0.7923 - categorical_accuracy: 0.7029\n",
      "Epoch 00020: saving model to model_init_2021-04-2517_05_02.433584/model-00020-0.79233-0.70287-1.35317-0.49000.h5\n",
      "67/67 [==============================] - 50s 744ms/step - loss: 0.7923 - categorical_accuracy: 0.7029 - val_loss: 1.3532 - val_categorical_accuracy: 0.4900 - lr: 1.0000e-07\n"
     ]
    },
    {
     "data": {
      "text/plain": [
       "<tensorflow.python.keras.callbacks.History at 0x7f49c845bb70>"
      ]
     },
     "execution_count": 28,
     "metadata": {},
     "output_type": "execute_result"
    }
   ],
   "source": [
    "num_epochs=20\n",
    "model.fit_generator(train_generator, steps_per_epoch=steps_per_epoch, epochs=num_epochs, verbose=1, \n",
    "                    callbacks=callbacks_list, validation_data=val_generator, \n",
    "                    validation_steps=validation_steps, class_weight=None, workers=1, initial_epoch=0)"
   ]
  },
  {
   "cell_type": "code",
   "execution_count": null,
   "metadata": {},
   "outputs": [],
   "source": []
  }
 ],
 "metadata": {
  "accelerator": "GPU",
  "colab": {
   "collapsed_sections": [],
   "name": "Venkatesh_Alti.ipynb",
   "provenance": [],
   "toc_visible": true
  },
  "kernelspec": {
   "display_name": "Python 3",
   "language": "python",
   "name": "python3"
  },
  "language_info": {
   "codemirror_mode": {
    "name": "ipython",
    "version": 3
   },
   "file_extension": ".py",
   "mimetype": "text/x-python",
   "name": "python",
   "nbconvert_exporter": "python",
   "pygments_lexer": "ipython3",
   "version": "3.8.3"
  }
 },
 "nbformat": 4,
 "nbformat_minor": 1
}
